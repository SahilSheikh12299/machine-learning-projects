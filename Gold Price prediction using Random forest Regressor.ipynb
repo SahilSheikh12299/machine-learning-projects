{
 "cells": [
  {
   "cell_type": "code",
   "execution_count": 2,
   "id": "62addfbb",
   "metadata": {},
   "outputs": [],
   "source": [
    "import pandas as pd\n",
    "import numpy as np\n",
    "import matplotlib.pyplot as plt\n",
    "import seaborn as sns\n",
    "from sklearn.model_selection import train_test_split\n",
    "from sklearn.ensemble import RandomForestRegressor"
   ]
  },
  {
   "cell_type": "code",
   "execution_count": 3,
   "id": "0289439a",
   "metadata": {},
   "outputs": [
    {
     "data": {
      "text/html": [
       "<div>\n",
       "<style scoped>\n",
       "    .dataframe tbody tr th:only-of-type {\n",
       "        vertical-align: middle;\n",
       "    }\n",
       "\n",
       "    .dataframe tbody tr th {\n",
       "        vertical-align: top;\n",
       "    }\n",
       "\n",
       "    .dataframe thead th {\n",
       "        text-align: right;\n",
       "    }\n",
       "</style>\n",
       "<table border=\"1\" class=\"dataframe\">\n",
       "  <thead>\n",
       "    <tr style=\"text-align: right;\">\n",
       "      <th></th>\n",
       "      <th>Date</th>\n",
       "      <th>SPX</th>\n",
       "      <th>GLD</th>\n",
       "      <th>USO</th>\n",
       "      <th>SLV</th>\n",
       "      <th>EUR/USD</th>\n",
       "    </tr>\n",
       "  </thead>\n",
       "  <tbody>\n",
       "    <tr>\n",
       "      <th>0</th>\n",
       "      <td>1/2/2008</td>\n",
       "      <td>1447.160034</td>\n",
       "      <td>84.860001</td>\n",
       "      <td>78.470001</td>\n",
       "      <td>15.1800</td>\n",
       "      <td>1.471692</td>\n",
       "    </tr>\n",
       "    <tr>\n",
       "      <th>1</th>\n",
       "      <td>1/3/2008</td>\n",
       "      <td>1447.160034</td>\n",
       "      <td>85.570000</td>\n",
       "      <td>78.370003</td>\n",
       "      <td>15.2850</td>\n",
       "      <td>1.474491</td>\n",
       "    </tr>\n",
       "    <tr>\n",
       "      <th>2</th>\n",
       "      <td>1/4/2008</td>\n",
       "      <td>1411.630005</td>\n",
       "      <td>85.129997</td>\n",
       "      <td>77.309998</td>\n",
       "      <td>15.1670</td>\n",
       "      <td>1.475492</td>\n",
       "    </tr>\n",
       "    <tr>\n",
       "      <th>3</th>\n",
       "      <td>1/7/2008</td>\n",
       "      <td>1416.180054</td>\n",
       "      <td>84.769997</td>\n",
       "      <td>75.500000</td>\n",
       "      <td>15.0530</td>\n",
       "      <td>1.468299</td>\n",
       "    </tr>\n",
       "    <tr>\n",
       "      <th>4</th>\n",
       "      <td>1/8/2008</td>\n",
       "      <td>1390.189941</td>\n",
       "      <td>86.779999</td>\n",
       "      <td>76.059998</td>\n",
       "      <td>15.5900</td>\n",
       "      <td>1.557099</td>\n",
       "    </tr>\n",
       "    <tr>\n",
       "      <th>...</th>\n",
       "      <td>...</td>\n",
       "      <td>...</td>\n",
       "      <td>...</td>\n",
       "      <td>...</td>\n",
       "      <td>...</td>\n",
       "      <td>...</td>\n",
       "    </tr>\n",
       "    <tr>\n",
       "      <th>2285</th>\n",
       "      <td>5/8/2018</td>\n",
       "      <td>2671.919922</td>\n",
       "      <td>124.589996</td>\n",
       "      <td>14.060000</td>\n",
       "      <td>15.5100</td>\n",
       "      <td>1.186789</td>\n",
       "    </tr>\n",
       "    <tr>\n",
       "      <th>2286</th>\n",
       "      <td>5/9/2018</td>\n",
       "      <td>2697.790039</td>\n",
       "      <td>124.330002</td>\n",
       "      <td>14.370000</td>\n",
       "      <td>15.5300</td>\n",
       "      <td>1.184722</td>\n",
       "    </tr>\n",
       "    <tr>\n",
       "      <th>2287</th>\n",
       "      <td>5/10/2018</td>\n",
       "      <td>2723.070068</td>\n",
       "      <td>125.180000</td>\n",
       "      <td>14.410000</td>\n",
       "      <td>15.7400</td>\n",
       "      <td>1.191753</td>\n",
       "    </tr>\n",
       "    <tr>\n",
       "      <th>2288</th>\n",
       "      <td>5/14/2018</td>\n",
       "      <td>2730.129883</td>\n",
       "      <td>124.489998</td>\n",
       "      <td>14.380000</td>\n",
       "      <td>15.5600</td>\n",
       "      <td>1.193118</td>\n",
       "    </tr>\n",
       "    <tr>\n",
       "      <th>2289</th>\n",
       "      <td>5/16/2018</td>\n",
       "      <td>2725.780029</td>\n",
       "      <td>122.543800</td>\n",
       "      <td>14.405800</td>\n",
       "      <td>15.4542</td>\n",
       "      <td>1.182033</td>\n",
       "    </tr>\n",
       "  </tbody>\n",
       "</table>\n",
       "<p>2290 rows × 6 columns</p>\n",
       "</div>"
      ],
      "text/plain": [
       "           Date          SPX         GLD        USO      SLV   EUR/USD\n",
       "0      1/2/2008  1447.160034   84.860001  78.470001  15.1800  1.471692\n",
       "1      1/3/2008  1447.160034   85.570000  78.370003  15.2850  1.474491\n",
       "2      1/4/2008  1411.630005   85.129997  77.309998  15.1670  1.475492\n",
       "3      1/7/2008  1416.180054   84.769997  75.500000  15.0530  1.468299\n",
       "4      1/8/2008  1390.189941   86.779999  76.059998  15.5900  1.557099\n",
       "...         ...          ...         ...        ...      ...       ...\n",
       "2285   5/8/2018  2671.919922  124.589996  14.060000  15.5100  1.186789\n",
       "2286   5/9/2018  2697.790039  124.330002  14.370000  15.5300  1.184722\n",
       "2287  5/10/2018  2723.070068  125.180000  14.410000  15.7400  1.191753\n",
       "2288  5/14/2018  2730.129883  124.489998  14.380000  15.5600  1.193118\n",
       "2289  5/16/2018  2725.780029  122.543800  14.405800  15.4542  1.182033\n",
       "\n",
       "[2290 rows x 6 columns]"
      ]
     },
     "execution_count": 3,
     "metadata": {},
     "output_type": "execute_result"
    }
   ],
   "source": [
    "df = pd.read_csv('gld_price_data.csv')\n",
    "df"
   ]
  },
  {
   "cell_type": "code",
   "execution_count": 4,
   "id": "e5b59fbd",
   "metadata": {},
   "outputs": [
    {
     "data": {
      "text/plain": [
       "Date       0\n",
       "SPX        0\n",
       "GLD        0\n",
       "USO        0\n",
       "SLV        0\n",
       "EUR/USD    0\n",
       "dtype: int64"
      ]
     },
     "execution_count": 4,
     "metadata": {},
     "output_type": "execute_result"
    }
   ],
   "source": [
    "df.isna().sum()"
   ]
  },
  {
   "cell_type": "code",
   "execution_count": 5,
   "id": "b94ec6b6",
   "metadata": {},
   "outputs": [
    {
     "data": {
      "text/html": [
       "<div>\n",
       "<style scoped>\n",
       "    .dataframe tbody tr th:only-of-type {\n",
       "        vertical-align: middle;\n",
       "    }\n",
       "\n",
       "    .dataframe tbody tr th {\n",
       "        vertical-align: top;\n",
       "    }\n",
       "\n",
       "    .dataframe thead th {\n",
       "        text-align: right;\n",
       "    }\n",
       "</style>\n",
       "<table border=\"1\" class=\"dataframe\">\n",
       "  <thead>\n",
       "    <tr style=\"text-align: right;\">\n",
       "      <th></th>\n",
       "      <th>SPX</th>\n",
       "      <th>GLD</th>\n",
       "      <th>USO</th>\n",
       "      <th>SLV</th>\n",
       "      <th>EUR/USD</th>\n",
       "    </tr>\n",
       "  </thead>\n",
       "  <tbody>\n",
       "    <tr>\n",
       "      <th>count</th>\n",
       "      <td>2290.000000</td>\n",
       "      <td>2290.000000</td>\n",
       "      <td>2290.000000</td>\n",
       "      <td>2290.000000</td>\n",
       "      <td>2290.000000</td>\n",
       "    </tr>\n",
       "    <tr>\n",
       "      <th>mean</th>\n",
       "      <td>1654.315776</td>\n",
       "      <td>122.732875</td>\n",
       "      <td>31.842221</td>\n",
       "      <td>20.084997</td>\n",
       "      <td>1.283653</td>\n",
       "    </tr>\n",
       "    <tr>\n",
       "      <th>std</th>\n",
       "      <td>519.111540</td>\n",
       "      <td>23.283346</td>\n",
       "      <td>19.523517</td>\n",
       "      <td>7.092566</td>\n",
       "      <td>0.131547</td>\n",
       "    </tr>\n",
       "    <tr>\n",
       "      <th>min</th>\n",
       "      <td>676.530029</td>\n",
       "      <td>70.000000</td>\n",
       "      <td>7.960000</td>\n",
       "      <td>8.850000</td>\n",
       "      <td>1.039047</td>\n",
       "    </tr>\n",
       "    <tr>\n",
       "      <th>25%</th>\n",
       "      <td>1239.874969</td>\n",
       "      <td>109.725000</td>\n",
       "      <td>14.380000</td>\n",
       "      <td>15.570000</td>\n",
       "      <td>1.171313</td>\n",
       "    </tr>\n",
       "    <tr>\n",
       "      <th>50%</th>\n",
       "      <td>1551.434998</td>\n",
       "      <td>120.580002</td>\n",
       "      <td>33.869999</td>\n",
       "      <td>17.268500</td>\n",
       "      <td>1.303297</td>\n",
       "    </tr>\n",
       "    <tr>\n",
       "      <th>75%</th>\n",
       "      <td>2073.010070</td>\n",
       "      <td>132.840004</td>\n",
       "      <td>37.827501</td>\n",
       "      <td>22.882500</td>\n",
       "      <td>1.369971</td>\n",
       "    </tr>\n",
       "    <tr>\n",
       "      <th>max</th>\n",
       "      <td>2872.870117</td>\n",
       "      <td>184.589996</td>\n",
       "      <td>117.480003</td>\n",
       "      <td>47.259998</td>\n",
       "      <td>1.598798</td>\n",
       "    </tr>\n",
       "  </tbody>\n",
       "</table>\n",
       "</div>"
      ],
      "text/plain": [
       "               SPX          GLD          USO          SLV      EUR/USD\n",
       "count  2290.000000  2290.000000  2290.000000  2290.000000  2290.000000\n",
       "mean   1654.315776   122.732875    31.842221    20.084997     1.283653\n",
       "std     519.111540    23.283346    19.523517     7.092566     0.131547\n",
       "min     676.530029    70.000000     7.960000     8.850000     1.039047\n",
       "25%    1239.874969   109.725000    14.380000    15.570000     1.171313\n",
       "50%    1551.434998   120.580002    33.869999    17.268500     1.303297\n",
       "75%    2073.010070   132.840004    37.827501    22.882500     1.369971\n",
       "max    2872.870117   184.589996   117.480003    47.259998     1.598798"
      ]
     },
     "execution_count": 5,
     "metadata": {},
     "output_type": "execute_result"
    }
   ],
   "source": [
    "df.describe()"
   ]
  },
  {
   "cell_type": "code",
   "execution_count": null,
   "id": "792ad18a",
   "metadata": {},
   "outputs": [],
   "source": []
  },
  {
   "cell_type": "markdown",
   "id": "d4050e87",
   "metadata": {},
   "source": [
    "# Finding correlation between the variables"
   ]
  },
  {
   "cell_type": "code",
   "execution_count": 7,
   "id": "1ecd26c9",
   "metadata": {},
   "outputs": [],
   "source": [
    "correlation = df.corr()"
   ]
  },
  {
   "cell_type": "code",
   "execution_count": 10,
   "id": "eb76cf4e",
   "metadata": {},
   "outputs": [
    {
     "data": {
      "text/plain": [
       "<AxesSubplot:>"
      ]
     },
     "execution_count": 10,
     "metadata": {},
     "output_type": "execute_result"
    },
    {
     "data": {
      "image/png": "[encoded data removed]",
      "text/plain": [
       "<Figure size 576x576 with 2 Axes>"
      ]
     },
     "metadata": {
      "needs_background": "light"
     },
     "output_type": "display_data"
    }
   ],
   "source": [
    "plt.figure(figsize=(8,8))\n",
    "sns.heatmap(correlation, cbar=True, square=True, annot=True, cmap='Blues')"
   ]
  },
  {
   "cell_type": "markdown",
   "id": "26653a45",
   "metadata": {},
   "source": [
    "# Gold and silver are positively correlated, gold and USO are negatively correlated"
   ]
  },
  {
   "cell_type": "code",
   "execution_count": 12,
   "id": "2638a888",
   "metadata": {},
   "outputs": [
    {
     "data": {
      "text/plain": [
       "SPX        0.049345\n",
       "GLD        1.000000\n",
       "USO       -0.186360\n",
       "SLV        0.866632\n",
       "EUR/USD   -0.024375\n",
       "Name: GLD, dtype: float64"
      ]
     },
     "execution_count": 12,
     "metadata": {},
     "output_type": "execute_result"
    }
   ],
   "source": [
    "correlation['GLD']"
   ]
  },
  {
   "cell_type": "markdown",
   "id": "4e9e3c67",
   "metadata": {},
   "source": [
    "# Distribution plot of gold data"
   ]
  },
  {
   "cell_type": "code",
   "execution_count": 13,
   "id": "7ab6e25d",
   "metadata": {},
   "outputs": [
    {
     "name": "stderr",
     "output_type": "stream",
     "text": [
      "D:\\Data_Science\\Anaconda\\lib\\site-packages\\seaborn\\distributions.py:2619: FutureWarning: `distplot` is a deprecated function and will be removed in a future version. Please adapt your code to use either `displot` (a figure-level function with similar flexibility) or `histplot` (an axes-level function for histograms).\n",
      "  warnings.warn(msg, FutureWarning)\n"
     ]
    },
    {
     "data": {
      "text/plain": [
       "<AxesSubplot:xlabel='GLD', ylabel='Density'>"
      ]
     },
     "execution_count": 13,
     "metadata": {},
     "output_type": "execute_result"
    },
    {
     "data": {
      "image/png": "[encoded data removed]",
      "text/plain": [
       "<Figure size 432x288 with 1 Axes>"
      ]
     },
     "metadata": {
      "needs_background": "light"
     },
     "output_type": "display_data"
    }
   ],
   "source": [
    "sns.distplot(df['GLD'], color='purple')"
   ]
  },
  {
   "cell_type": "code",
   "execution_count": 15,
   "id": "fa941b0e",
   "metadata": {},
   "outputs": [],
   "source": [
    "x = df.drop(['Date','GLD'],axis='columns')\n",
    "y = df['GLD']"
   ]
  },
  {
   "cell_type": "code",
   "execution_count": 19,
   "id": "30526bdf",
   "metadata": {},
   "outputs": [],
   "source": [
    "x_train, x_test, y_train, y_test = train_test_split(x,y, test_size=0.2, random_state=2)"
   ]
  },
  {
   "cell_type": "code",
   "execution_count": null,
   "id": "4e4d5610",
   "metadata": {},
   "outputs": [],
   "source": []
  },
  {
   "cell_type": "code",
   "execution_count": 20,
   "id": "6b05fbf4",
   "metadata": {},
   "outputs": [],
   "source": [
    "regressor = RandomForestRegressor(n_estimators=100)"
   ]
  },
  {
   "cell_type": "code",
   "execution_count": 21,
   "id": "20b1411d",
   "metadata": {},
   "outputs": [
    {
     "data": {
      "text/plain": [
       "RandomForestRegressor()"
      ]
     },
     "execution_count": 21,
     "metadata": {},
     "output_type": "execute_result"
    }
   ],
   "source": [
    "regressor.fit(x_train, y_train)"
   ]
  },
  {
   "cell_type": "code",
   "execution_count": 23,
   "id": "b239a6ed",
   "metadata": {},
   "outputs": [
    {
     "data": {
      "text/plain": [
       "array([168.63009961,  81.81899992, 116.19340051, 127.50020058,\n",
       "       120.68970164, 154.74019772, 149.80839852, 126.19600015,\n",
       "       117.655399  , 125.95650124, 116.70440076, 172.39000063,\n",
       "       141.38569845, 167.78009822, 115.06490015, 117.98850017,\n",
       "       138.55010345, 170.15640111, 159.38820234, 159.55689912,\n",
       "       155.23730035, 125.19130024, 175.60329947, 157.08650271,\n",
       "       125.19630036,  93.79759979,  77.36620002, 120.45730011,\n",
       "       119.05319949, 167.47879925,  88.09410061, 125.3445001 ,\n",
       "        91.18220087, 117.60169988, 121.26429916, 135.94450047,\n",
       "       115.5036013 , 115.29570032, 149.28279999, 107.13310082,\n",
       "       104.09320232,  87.1857981 , 126.61880059, 118.06380043,\n",
       "       152.50719862, 119.5884997 , 108.21630036, 108.19379813,\n",
       "        93.18600057, 127.02399801,  74.72600058, 113.74449911,\n",
       "       121.11160043, 111.36359933, 118.84719887, 120.93839892,\n",
       "       159.64420009, 167.21140057, 146.94819652,  86.08199861,\n",
       "        94.32190023,  86.9277986 ,  90.59959994, 119.0795005 ,\n",
       "       126.46540092, 127.55080024, 170.93470052, 122.28189936,\n",
       "       117.40349874,  98.46370047, 168.13460136, 143.14049811,\n",
       "       132.05560251, 121.35080214, 121.7025991 , 119.84550057,\n",
       "       114.46810162, 118.55080047, 107.30680073, 127.88960127,\n",
       "       113.87709987, 107.48319981, 117.09320055, 119.56299903,\n",
       "        89.13740081,  88.26829871, 146.85400221, 127.27210037,\n",
       "       113.26960038, 110.43749844, 108.23279904,  77.37799912,\n",
       "       168.51350246, 114.18359908, 121.49069932, 128.00060198,\n",
       "       154.8820981 ,  91.75679986, 136.89520096, 159.04600332,\n",
       "       125.12790074, 125.30880056, 130.42620196, 114.90980116,\n",
       "       119.73970011,  92.17559954, 110.20509905, 168.27509909,\n",
       "       156.74419905, 114.32719956, 106.8495011 ,  79.75499955,\n",
       "       113.26840036, 125.81280053, 107.15269925, 119.39710095,\n",
       "       156.04200333, 159.54009955, 120.14149999, 134.34790254,\n",
       "       101.52920005, 117.52449781, 119.28450031, 112.97390089,\n",
       "       102.84509944, 159.96599772,  99.22180056, 148.71879945,\n",
       "       125.52590126, 169.51719959, 125.82449831, 127.4155972 ,\n",
       "       127.38270169, 113.75919923, 113.2887006 , 123.65469921,\n",
       "       102.22049926,  89.4405998 , 124.66999923, 101.52039963,\n",
       "       107.30449903, 113.41650071, 117.37600103,  99.02639972,\n",
       "       121.85070037, 162.7378985 ,  87.35989863, 106.87210001,\n",
       "       116.97690082, 127.65840127, 124.08580058,  80.61549904,\n",
       "       120.43730054, 158.06149858,  88.14839973, 110.07989986,\n",
       "       118.84949913, 172.54879875, 103.00729914, 105.26950071,\n",
       "       122.8790004 , 158.52029829,  87.50909856,  93.76650065,\n",
       "       112.58170017, 177.2877997 , 114.48639934, 119.30160033,\n",
       "        94.90420135, 125.73679989, 166.04930019, 114.9957006 ,\n",
       "       116.68230116,  88.26419867, 148.91610106, 120.47569937,\n",
       "        89.51260016, 111.44360009, 117.23460042, 118.76230124,\n",
       "        88.30959937,  94.17640025, 116.98049992, 118.5869018 ,\n",
       "       120.40130053, 126.80429813, 121.96229968, 150.45570038,\n",
       "       164.1728006 , 118.55729946, 120.25480165, 151.389601  ,\n",
       "       118.4522992 , 173.08849844, 105.3838992 , 104.92030135,\n",
       "       149.42620116, 113.48360072, 124.85170101, 147.62000095,\n",
       "       119.55930151, 115.20070027, 112.26979983, 113.52470209,\n",
       "       141.07920099, 117.93799765, 103.00630056, 115.93500121,\n",
       "       103.50630202,  98.95020041, 117.17490049,  90.6218    ,\n",
       "        91.61750027, 153.49529941, 102.73709993, 155.25780131,\n",
       "       114.45790155, 138.20450061,  90.22439809, 115.49229947,\n",
       "       114.88719971, 122.4563006 , 121.68120037, 165.4114018 ,\n",
       "        92.92419951, 135.32510109, 121.35459924, 120.76620082,\n",
       "       104.70930021, 140.99470293, 121.99479914, 116.50930026,\n",
       "       113.57610076, 127.19149714, 122.5154996 , 125.7217992 ,\n",
       "       121.24680039,  86.91639892, 132.71990122, 145.37370143,\n",
       "        92.74089914, 159.99640008, 159.10330252, 126.40949885,\n",
       "       164.46209995, 108.80419929, 109.61600091, 103.64049831,\n",
       "        94.07780059, 127.75910258, 107.3933007 , 162.22020029,\n",
       "       121.81340047, 132.12930021, 130.38510137, 161.14679907,\n",
       "        90.17779839, 175.68290214, 127.77289989, 126.83919838,\n",
       "        86.30909879, 124.51219966, 150.48829734,  89.6039003 ,\n",
       "       107.06819986, 108.99359985,  83.99469929, 136.21430015,\n",
       "       154.92040234, 138.73470308,  74.09500026, 152.65520134,\n",
       "       126.4315997 , 126.74350007, 127.63389906, 108.60819985,\n",
       "       156.35670097, 114.52220114, 117.10780172, 125.50329916,\n",
       "       154.05750135, 121.29299973, 156.45089836,  92.93290088,\n",
       "       125.46140142, 125.50030039,  88.10650058,  92.14299928,\n",
       "       126.24529939, 128.48210362, 113.22430095, 117.69839761,\n",
       "       121.05469992, 127.07109811, 119.63960149, 136.2892008 ,\n",
       "        93.93149981, 119.70510041, 113.02640103,  94.30179954,\n",
       "       109.07789988,  87.07589933, 108.88699922,  89.55729992,\n",
       "        92.4166004 , 131.77800295, 162.33470037,  89.29510011,\n",
       "       119.60120073, 133.21520172, 123.94270034, 128.19820119,\n",
       "       101.89749839,  89.10169875, 131.36260047, 120.26680044,\n",
       "       108.47230006, 167.73740099, 115.06850032,  86.57429919,\n",
       "       118.89080061,  91.21009981, 162.02469996, 116.51940011,\n",
       "       121.89740027, 160.21539828, 119.98029965, 112.57159932,\n",
       "       108.4621988 , 126.69949918,  75.95530047, 102.96849981,\n",
       "       127.69170247, 121.86919904,  92.66919996, 131.99490064,\n",
       "       118.04310102, 116.01519948, 154.9018025 , 159.77750077,\n",
       "       110.13669942, 154.55769768, 119.31390097, 160.71910082,\n",
       "       118.56610047, 158.19200003, 115.09719924, 116.59860027,\n",
       "       149.92719974, 114.62500084, 125.63989856, 165.23969854,\n",
       "       117.81210014, 124.9163992 , 153.37380374, 153.35130275,\n",
       "       132.03789987, 114.80330039, 121.28950193, 125.00370045,\n",
       "        89.84780051, 123.12119967, 155.02400162, 111.7918003 ,\n",
       "       106.7270001 , 161.94250097, 118.53599952, 165.68179929,\n",
       "       134.17680121, 114.91769963, 152.94859905, 168.87680099,\n",
       "       115.21740022, 113.9339013 , 159.47439836,  85.28129893,\n",
       "       127.11290063, 128.03610058, 128.97689951, 124.30510055,\n",
       "       123.95210063,  90.78290054, 153.17350105,  97.06639973,\n",
       "       137.82569981,  89.09989931, 107.43969982, 114.85550013,\n",
       "       112.54580072, 124.12929915,  91.3388987 , 125.48140142,\n",
       "       162.2865986 , 119.6495991 , 164.99920114, 126.87659792,\n",
       "       112.38879988, 127.55479924,  94.73019849,  91.05919995,\n",
       "       102.92759913, 121.02060004,  82.86969936, 126.18050073,\n",
       "       160.42870462, 117.25460088, 118.2534999 , 119.75669996,\n",
       "       122.58109971, 120.09730133, 121.59149983, 118.52030039,\n",
       "       107.08840009, 148.32200067, 126.40319848, 115.65800065,\n",
       "        73.92949999, 127.88160153, 154.68790108, 121.73549998,\n",
       "       125.59960054,  88.84920011, 103.09559834, 124.78680066,\n",
       "       120.12090051,  73.34910072, 151.36870027, 121.06160066,\n",
       "       104.68760012,  86.32819785, 115.30159901, 172.19079832,\n",
       "       120.00000028, 160.66909761, 113.21279959, 120.99439995,\n",
       "       118.41720126,  96.07939983, 118.53190034, 125.87910051,\n",
       "       118.40049972,  96.07780042, 154.18180201, 122.4047002 ,\n",
       "       147.52920014, 159.28140233, 113.9056001 , 122.38369971,\n",
       "       149.44829864, 127.29920048, 165.88500079, 135.36100024,\n",
       "       120.07429972, 167.32769832, 108.48619911, 121.68479874,\n",
       "       138.51470094, 107.47289883])"
      ]
     },
     "execution_count": 23,
     "metadata": {},
     "output_type": "execute_result"
    }
   ],
   "source": [
    "regressor.predict(x_test)"
   ]
  },
  {
   "cell_type": "code",
   "execution_count": 25,
   "id": "229bb234",
   "metadata": {},
   "outputs": [
    {
     "data": {
      "text/plain": [
       "0.9890746688869685"
      ]
     },
     "execution_count": 25,
     "metadata": {},
     "output_type": "execute_result"
    }
   ],
   "source": [
    "regressor.score(x_test,y_test)"
   ]
  },
  {
   "cell_type": "markdown",
   "id": "57d91875",
   "metadata": {},
   "source": [
    "# The model gave 98.9% Accuracy"
   ]
  },
  {
   "cell_type": "code",
   "execution_count": null,
   "id": "812459d8",
   "metadata": {},
   "outputs": [],
   "source": []
  },
  {
   "cell_type": "code",
   "execution_count": null,
   "id": "bed327d4",
   "metadata": {},
   "outputs": [],
   "source": []
  }
 ],
 "metadata": {
  "kernelspec": {
   "display_name": "Python 3 (ipykernel)",
   "language": "python",
   "name": "python3"
  },
  "language_info": {
   "codemirror_mode": {
    "name": "ipython",
    "version": 3
   },
   "file_extension": ".py",
   "mimetype": "text/x-python",
   "name": "python",
   "nbconvert_exporter": "python",
   "pygments_lexer": "ipython3",
   "version": "3.9.7"
  }
 },
 "nbformat": 4,
 "nbformat_minor": 5
}
